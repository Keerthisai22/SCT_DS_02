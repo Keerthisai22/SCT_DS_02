{
  "metadata": {
    "kernelspec": {
      "name": "python",
      "display_name": "Python (Pyodide)",
      "language": "python"
    },
    "language_info": {
      "codemirror_mode": {
        "name": "python",
        "version": 3
      },
      "file_extension": ".py",
      "mimetype": "text/x-python",
      "name": "python",
      "nbconvert_exporter": "python",
      "pygments_lexer": "ipython3",
      "version": "3.8"
    }
  },
  "nbformat_minor": 5,
  "nbformat": 4,
  "cells": [
    {
      "id": "0ad4b4ad-1254-43e5-b4e6-ff253d4b8430",
      "cell_type": "code",
      "source": "import pandas as pd\nimport matplotlib.pyplot as plt\ndf=pd.read_csv(\"Titanicss.csv\")\nprint(df)\nprint(\"SURVIVED COUNTS\")\nprint(df['survived'].value_counts())\nplt.figure(figsize=(3,2))\nplt.bar(['Not survived','survived'],df['survived'].value_counts(),color=['purple','blue'])\nplt.title('How many prople survived?')\nplt.ylabel('Number of people')\nplt.show()\nprint(\"Gender counts\")\nprint(df['sex'].value_counts())\nplt.figure(figsize=(3,2))\ngender_counts=df['sex'].value_counts()\nplt.pie(gender_counts,labels=gender_counts.index,colors=['skyblue','violet'],autopct='%1.1f%%',startangle=90)\nplt.title('MALE VS FEMALE')\nplt.axis('equal')\nplt.show()\nprint(\"SURVIVED BY CLASS\")\nprint(df.groupby('pclass')['survived'].sum())\nsurvived_by_class=df[df['survived']==1]['pclass'].value_counts().sort_index()\nplt.figure(figsize=(3,2))\nplt.bar(['1st class','2nd class','3rd class'],survived_by_class.values,color='purple')\nplt.title('SURVIVED COUNT BY PASSENGER CLASS')\nplt.ylabel('Number of survivors')\nplt.show()",
      "metadata": {
        "trusted": true
      },
      "outputs": [
        {
          "name": "stdout",
          "output_type": "stream",
          "text": "   passengerId  survived     sex   Age  pclass   fare\n0            1         0    male  22.0       3   7.25\n1            2         1  female  38.0       1  71.28\n2            3         1  female  26.0       3   7.92\n3            4         1  female  35.0       1  53.10\n4            5         0    male  35.0       3   8.05\n5            6         0    male   NaN       3   8.46\n6            7         0    male  54.0       1  51.86\n7            8         0    male   2.0       3  21.07\n8            9         1  female  27.0       3  11.13\n9           10         1  female  14.0       2  30.07\n"
        }
      ],
      "execution_count": 25
    },
    {
      "id": "c01337d9-33d1-4e92-ad44-80f3fd0d0683",
      "cell_type": "code",
      "source": "",
      "metadata": {
        "trusted": true
      },
      "outputs": [],
      "execution_count": null
    }
  ]
}